{
 "cells": [
  {
   "cell_type": "markdown",
   "id": "dc646037",
   "metadata": {},
   "source": [
    "# Write a programm to make a menu driven calculator using function ."
   ]
  },
  {
   "cell_type": "code",
   "execution_count": 1,
   "id": "8631f6af",
   "metadata": {},
   "outputs": [
    {
     "name": "stdout",
     "output_type": "stream",
     "text": [
      "Please Enter Your Option:\n",
      "Option:\n",
      "1. Add:\n",
      "2. Subtract:\n",
      "3. Multiplication:\n",
      "4. Divide:\n",
      "Enter Option=1\n",
      "Enter No.1=44\n",
      "Enter No.2=44\n",
      "Sum= 88\n"
     ]
    }
   ],
   "source": [
    "def add(x,y):\n",
    "    print(\"Sum=\",x+y)\n",
    "def sub(x,y):\n",
    "    print(\"Subtraction=\",x-y)\n",
    "def mul(x,y):\n",
    "    print(\"Multiplication=\",x*y)\n",
    "def div(x,y):\n",
    "    print(\"Divide=\",x//y)\n",
    "print(\"Please Enter Your Option:\")\n",
    "print(\"\"\"Option:\n",
    "1. Add:\n",
    "2. Subtract:\n",
    "3. Multiplication:\n",
    "4. Divide:\"\"\")\n",
    "o=int(input(\"Enter Option=\"))\n",
    "a=int(input(\"Enter No.1=\"))\n",
    "b=int(input(\"Enter No.2=\"))\n",
    "if o==1:\n",
    "    add(a,b)\n",
    "elif o==2:\n",
    "    sub(a,b)\n",
    "elif o==3:\n",
    "    mul(a,b)\n",
    "elif o==4:\n",
    "    div(a,b)\n",
    "else:\n",
    "    print(\"Invalid Option:\")"
   ]
  }
 ],
 "metadata": {
  "kernelspec": {
   "display_name": "Python 3 (ipykernel)",
   "language": "python",
   "name": "python3"
  },
  "language_info": {
   "codemirror_mode": {
    "name": "ipython",
    "version": 3
   },
   "file_extension": ".py",
   "mimetype": "text/x-python",
   "name": "python",
   "nbconvert_exporter": "python",
   "pygments_lexer": "ipython3",
   "version": "3.9.12"
  }
 },
 "nbformat": 4,
 "nbformat_minor": 5
}
